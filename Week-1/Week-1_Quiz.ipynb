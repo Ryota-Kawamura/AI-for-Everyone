{
 "cells": [
  {
   "cell_type": "markdown",
   "id": "c9f31155",
   "metadata": {},
   "source": [
    "**1.** Which of these terms best describes the type of AI used in today’s email spam filters, speech recognition, and other specific applications?\n",
    "- [ ] Artificial General Intelligence (AGI)\n",
    "- [x] Artificial Narrow Intelligence (ANI)"
   ]
  },
  {
   "cell_type": "markdown",
   "id": "7e926cdf",
   "metadata": {},
   "source": [
    "**2.** What do you call the commonly used AI technology for learning input (A) to output (B) mappings?\n",
    "- [ ] Reinforcement learning\n",
    "- [ ] Artificial General Intelligence\n",
    "- [x] Supervised learning\n",
    "- [ ] Unsupervised learning"
   ]
  },
  {
   "cell_type": "markdown",
   "id": "106c778c",
   "metadata": {},
   "source": [
    "**3.** \n",
    "<figure>\n",
    "    <img src=\"./images/C1_W1_Quiz.jpg\"  alt='missing' width=\"900\">\n",
    "<figure/>\n",
    "<br>\n",
    "\n",
    "You want to use supervised learning to build a speech recognition system. The figure above suggests that in order for a neural network (deep learning) to achieve the best performance, you would ideally use: (Select all that apply)\n",
    "- [x] A large dataset (of audio files and the corresponding text transcript)\n",
    "- [ ] A small dataset (of audio files and the corresponding text transcript)\n",
    "- [x] A large neural network\n",
    "- [ ] A small neural network"
   ]
  },
  {
   "cell_type": "markdown",
   "id": "6af002eb",
   "metadata": {},
   "source": [
    "**4.** The only way to acquire data for a supervised learning algorithm is to manually label it. I.e., given the input A, to ask a human to provide B.\n",
    "- [ ] True\n",
    "- [x] False"
   ]
  },
  {
   "cell_type": "markdown",
   "id": "99c7fc88",
   "metadata": {},
   "source": [
    "**5.** Which of these statements regarding data acquisition do you agree with?\n",
    "- [ ] It doesn’t help to give data to an AI team, because they can always produce whatever they need by themselves.\n",
    "- [ ] Only structured data is valuable; AI cannot process unstructured data.\n",
    "- [x] Some types of data are more valuable than others; working with an AI team can help you figure out what data to acquire.\n",
    "- [ ] It doesn’t matter how data is acquired. The more data, the better."
   ]
  },
  {
   "cell_type": "markdown",
   "id": "d03b45db",
   "metadata": {},
   "source": [
    "**6.** You run a company that manufactures scooters. Which of the following are examples of unstructured data? (Select all that apply.)\n",
    "- [x] Pictures of your scooters\n",
    "- [ ] The maximum speed of each of your scooters\n",
    "- [x] Audio files of the engine sound of your scooters\n",
    "- [ ] The number of scooters sold per week over the past year"
   ]
  },
  {
   "cell_type": "markdown",
   "id": "4a7a59af",
   "metadata": {},
   "source": [
    "**7.** Suppose you run a website that sells cat food. Which of these might be a good result from a Data Science project? (Select all that apply.)\n",
    "- [ ] A neural network that closely mimics how cats’ brains work.\n",
    "- [ ] A large dataset of images labeled as “Cat” and “Not Cat”\n",
    "- [x] Insights into how to market cat food more effectively, depending on the breed of cat.\n",
    "- [x] A slide deck presenting a plan on how to modify pricing in order to improve sales."
   ]
  },
  {
   "cell_type": "markdown",
   "id": "5c0e266b",
   "metadata": {},
   "source": [
    "**8.** Based on the terminology defined in Video 4, which of the following statements do you agree with? (Select all that apply.)\n",
    "- [x] The terms “Deep learning” and “neural network” are used almost interchangeably.\n",
    "- [ ] The terms “Machine learning” and “data science” are used almost interchangeably.\n",
    "- [ ] AI is a type of deep learning. (I.e., all AI algorithms are deep learning algorithms.)\n",
    "- [x] Deep learning is a type of machine learning.  (I.e., all deep learning algorithms are machine learning algorithms.)"
   ]
  },
  {
   "cell_type": "markdown",
   "id": "191c5aa2",
   "metadata": {},
   "source": [
    "**9.** Which of these do AI companies do well?\n",
    "- [ ] Strategic data acquisition\n",
    "- [ ] Invest in unified data warehouses\n",
    "- [ ] Spot automation opportunities\n",
    "- [x] All of the above"
   ]
  },
  {
   "cell_type": "markdown",
   "id": "80e7f853",
   "metadata": {},
   "source": [
    "**10.** Say you want to input a picture of a person’s face (A), and output whether or not they are smiling (B). Because this is a task that most humans can do in less than 1 second, supervised learning can probably learn this A-to-B mapping.\n",
    "- [x] True\n",
    "- [ ] False"
   ]
  }
 ],
 "metadata": {
  "kernelspec": {
   "display_name": "Python 3 (ipykernel)",
   "language": "python",
   "name": "python3"
  },
  "language_info": {
   "codemirror_mode": {
    "name": "ipython",
    "version": 3
   },
   "file_extension": ".py",
   "mimetype": "text/x-python",
   "name": "python",
   "nbconvert_exporter": "python",
   "pygments_lexer": "ipython3",
   "version": "3.11.3"
  }
 },
 "nbformat": 4,
 "nbformat_minor": 5
}
